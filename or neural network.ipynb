{
 "cells": [
  {
   "cell_type": "code",
   "execution_count": null,
   "metadata": {},
   "outputs": [],
   "source": [
    "#OR implementation of Neural Net\n",
    "#Written BY: Rohit Roy Chowdhury\n",
    "#Mtech DS 2 years"
   ]
  },
  {
   "cell_type": "code",
   "execution_count": 40,
   "metadata": {},
   "outputs": [],
   "source": [
    "import numpy as np"
   ]
  },
  {
   "cell_type": "code",
   "execution_count": 41,
   "metadata": {},
   "outputs": [
    {
     "name": "stdout",
     "output_type": "stream",
     "text": [
      "[0 1 1 1 1 1 1 1]\n",
      "[[0 0 0]\n",
      " [0 0 1]\n",
      " [0 1 0]\n",
      " [0 1 1]\n",
      " [1 0 0]\n",
      " [1 0 1]\n",
      " [1 1 0]\n",
      " [1 1 1]]\n"
     ]
    }
   ],
   "source": [
    "#creating the datas\n",
    "x = np.array([0,1])\n",
    "y = np.array([0,1])\n",
    "z = np.array([0,1])\n",
    "a = np.zeros([8,3], dtype='int')\n",
    "result = np.array([], dtype='int')\n",
    "count = 0\n",
    "for i in range(len(x)):\n",
    "    for j in range(len(y)):\n",
    "        for k in range(len(z)):\n",
    "            a[count] = [x[i],y[j],z[k]]\n",
    "            temp = np.bitwise_or(x[i],y[j])\n",
    "            result =  np.append(result, np.bitwise_or(temp,z[k]))\n",
    "            count+=1\n",
    "            \n",
    "print(result)\n",
    "print(a)"
   ]
  },
  {
   "cell_type": "code",
   "execution_count": 42,
   "metadata": {},
   "outputs": [],
   "source": [
    "import tensorflow as tf\n",
    "from tensorflow import keras"
   ]
  },
  {
   "cell_type": "code",
   "execution_count": 43,
   "metadata": {},
   "outputs": [],
   "source": [
    "from sklearn.model_selection import train_test_split\n",
    "train_X, test_X, train_y, test_y = train_test_split(a, result)"
   ]
  },
  {
   "cell_type": "code",
   "execution_count": 44,
   "metadata": {},
   "outputs": [
    {
     "data": {
      "text/plain": [
       "<tensorflow.python.keras.engine.sequential.Sequential at 0x7f13c804c040>"
      ]
     },
     "execution_count": 44,
     "metadata": {},
     "output_type": "execute_result"
    }
   ],
   "source": [
    "#first layer\n",
    "model = tf.keras.Sequential(\n",
    "[keras.layers.Dense(units = 2, input_shape=[3])])\n",
    "#second layer\n",
    "tf.keras.Sequential(\n",
    "[keras.layers.Dense(units = 1, input_shape=[2])])"
   ]
  },
  {
   "cell_type": "code",
   "execution_count": 45,
   "metadata": {},
   "outputs": [
    {
     "name": "stdout",
     "output_type": "stream",
     "text": [
      "Epoch 1/80\n",
      "1/1 [==============================] - 0s 717us/step - loss: 3.0100\n",
      "Epoch 2/80\n",
      "1/1 [==============================] - 0s 1ms/step - loss: 2.8896\n",
      "Epoch 3/80\n",
      "1/1 [==============================] - 0s 1ms/step - loss: 2.7744\n",
      "Epoch 4/80\n",
      "1/1 [==============================] - 0s 922us/step - loss: 2.6642\n",
      "Epoch 5/80\n",
      "1/1 [==============================] - 0s 852us/step - loss: 2.5588\n",
      "Epoch 6/80\n",
      "1/1 [==============================] - 0s 904us/step - loss: 2.4580\n",
      "Epoch 7/80\n",
      "1/1 [==============================] - 0s 895us/step - loss: 2.3615\n",
      "Epoch 8/80\n",
      "1/1 [==============================] - 0s 1ms/step - loss: 2.2692\n",
      "Epoch 9/80\n",
      "1/1 [==============================] - 0s 1ms/step - loss: 2.1808\n",
      "Epoch 10/80\n",
      "1/1 [==============================] - 0s 1ms/step - loss: 2.0963\n",
      "Epoch 11/80\n",
      "1/1 [==============================] - 0s 1ms/step - loss: 2.0154\n",
      "Epoch 12/80\n",
      "1/1 [==============================] - 0s 1ms/step - loss: 1.9381\n",
      "Epoch 13/80\n",
      "1/1 [==============================] - 0s 1ms/step - loss: 1.8640\n",
      "Epoch 14/80\n",
      "1/1 [==============================] - 0s 1ms/step - loss: 1.7932\n",
      "Epoch 15/80\n",
      "1/1 [==============================] - 0s 1ms/step - loss: 1.7254\n",
      "Epoch 16/80\n",
      "1/1 [==============================] - 0s 1ms/step - loss: 1.6605\n",
      "Epoch 17/80\n",
      "1/1 [==============================] - 0s 1ms/step - loss: 1.5984\n",
      "Epoch 18/80\n",
      "1/1 [==============================] - 0s 1ms/step - loss: 1.5389\n",
      "Epoch 19/80\n",
      "1/1 [==============================] - 0s 1ms/step - loss: 1.4820\n",
      "Epoch 20/80\n",
      "1/1 [==============================] - 0s 1ms/step - loss: 1.4276\n",
      "Epoch 21/80\n",
      "1/1 [==============================] - 0s 1ms/step - loss: 1.3755\n",
      "Epoch 22/80\n",
      "1/1 [==============================] - 0s 1ms/step - loss: 1.3256\n",
      "Epoch 23/80\n",
      "1/1 [==============================] - 0s 1ms/step - loss: 1.2778\n",
      "Epoch 24/80\n",
      "1/1 [==============================] - 0s 1ms/step - loss: 1.2321\n",
      "Epoch 25/80\n",
      "1/1 [==============================] - 0s 1ms/step - loss: 1.1884\n",
      "Epoch 26/80\n",
      "1/1 [==============================] - 0s 1ms/step - loss: 1.1465\n",
      "Epoch 27/80\n",
      "1/1 [==============================] - 0s 2ms/step - loss: 1.1063\n",
      "Epoch 28/80\n",
      "1/1 [==============================] - 0s 2ms/step - loss: 1.0679\n",
      "Epoch 29/80\n",
      "1/1 [==============================] - 0s 1ms/step - loss: 1.0312\n",
      "Epoch 30/80\n",
      "1/1 [==============================] - 0s 2ms/step - loss: 0.9959\n",
      "Epoch 31/80\n",
      "1/1 [==============================] - 0s 2ms/step - loss: 0.9622\n",
      "Epoch 32/80\n",
      "1/1 [==============================] - 0s 2ms/step - loss: 0.9299\n",
      "Epoch 33/80\n",
      "1/1 [==============================] - 0s 7ms/step - loss: 0.8990\n",
      "Epoch 34/80\n",
      "1/1 [==============================] - ETA: 0s - loss: 0.869 - 0s 4ms/step - loss: 0.8693\n",
      "Epoch 35/80\n",
      "1/1 [==============================] - ETA: 0s - loss: 0.841 - 0s 2ms/step - loss: 0.8410\n",
      "Epoch 36/80\n",
      "1/1 [==============================] - 0s 2ms/step - loss: 0.8138\n",
      "Epoch 37/80\n",
      "1/1 [==============================] - 0s 2ms/step - loss: 0.7877\n",
      "Epoch 38/80\n",
      "1/1 [==============================] - 0s 2ms/step - loss: 0.7628\n",
      "Epoch 39/80\n",
      "1/1 [==============================] - 0s 1ms/step - loss: 0.7388\n",
      "Epoch 40/80\n",
      "1/1 [==============================] - 0s 1ms/step - loss: 0.7159\n",
      "Epoch 41/80\n",
      "1/1 [==============================] - 0s 3ms/step - loss: 0.6940\n",
      "Epoch 42/80\n",
      "1/1 [==============================] - 0s 1ms/step - loss: 0.6729\n",
      "Epoch 43/80\n",
      "1/1 [==============================] - ETA: 0s - loss: 0.652 - 0s 2ms/step - loss: 0.6527\n",
      "Epoch 44/80\n",
      "1/1 [==============================] - 0s 1ms/step - loss: 0.6334\n",
      "Epoch 45/80\n",
      "1/1 [==============================] - 0s 3ms/step - loss: 0.6149\n",
      "Epoch 46/80\n",
      "1/1 [==============================] - 0s 3ms/step - loss: 0.5971\n",
      "Epoch 47/80\n",
      "1/1 [==============================] - 0s 1ms/step - loss: 0.5801\n",
      "Epoch 48/80\n",
      "1/1 [==============================] - 0s 3ms/step - loss: 0.5637\n",
      "Epoch 49/80\n",
      "1/1 [==============================] - 0s 4ms/step - loss: 0.5480\n",
      "Epoch 50/80\n",
      "1/1 [==============================] - 0s 1ms/step - loss: 0.5330\n",
      "Epoch 51/80\n",
      "1/1 [==============================] - 0s 1ms/step - loss: 0.5186\n",
      "Epoch 52/80\n",
      "1/1 [==============================] - 0s 10ms/step - loss: 0.5047\n",
      "Epoch 53/80\n",
      "1/1 [==============================] - 0s 1ms/step - loss: 0.4915\n",
      "Epoch 54/80\n",
      "1/1 [==============================] - 0s 1ms/step - loss: 0.4787\n",
      "Epoch 55/80\n",
      "1/1 [==============================] - 0s 1ms/step - loss: 0.4665\n",
      "Epoch 56/80\n",
      "1/1 [==============================] - 0s 1ms/step - loss: 0.4548\n",
      "Epoch 57/80\n",
      "1/1 [==============================] - 0s 1ms/step - loss: 0.4435\n",
      "Epoch 58/80\n",
      "1/1 [==============================] - 0s 1ms/step - loss: 0.4327\n",
      "Epoch 59/80\n",
      "1/1 [==============================] - 0s 1ms/step - loss: 0.4223\n",
      "Epoch 60/80\n",
      "1/1 [==============================] - 0s 3ms/step - loss: 0.4123\n",
      "Epoch 61/80\n",
      "1/1 [==============================] - 0s 2ms/step - loss: 0.4027\n",
      "Epoch 62/80\n",
      "1/1 [==============================] - 0s 1ms/step - loss: 0.3935\n",
      "Epoch 63/80\n",
      "1/1 [==============================] - 0s 2ms/step - loss: 0.3847\n",
      "Epoch 64/80\n",
      "1/1 [==============================] - 0s 1ms/step - loss: 0.3762\n",
      "Epoch 65/80\n",
      "1/1 [==============================] - 0s 1ms/step - loss: 0.3680\n",
      "Epoch 66/80\n",
      "1/1 [==============================] - 0s 2ms/step - loss: 0.3601\n",
      "Epoch 67/80\n",
      "1/1 [==============================] - 0s 1ms/step - loss: 0.3526\n",
      "Epoch 68/80\n",
      "1/1 [==============================] - 0s 2ms/step - loss: 0.3453\n",
      "Epoch 69/80\n",
      "1/1 [==============================] - 0s 1ms/step - loss: 0.3383\n",
      "Epoch 70/80\n",
      "1/1 [==============================] - 0s 1ms/step - loss: 0.3316\n",
      "Epoch 71/80\n",
      "1/1 [==============================] - 0s 907us/step - loss: 0.3251\n",
      "Epoch 72/80\n",
      "1/1 [==============================] - 0s 1ms/step - loss: 0.3189\n",
      "Epoch 73/80\n",
      "1/1 [==============================] - 0s 893us/step - loss: 0.3129\n",
      "Epoch 74/80\n",
      "1/1 [==============================] - 0s 763us/step - loss: 0.3071\n",
      "Epoch 75/80\n",
      "1/1 [==============================] - 0s 776us/step - loss: 0.3015\n",
      "Epoch 76/80\n",
      "1/1 [==============================] - 0s 2ms/step - loss: 0.2962\n",
      "Epoch 77/80\n",
      "1/1 [==============================] - 0s 988us/step - loss: 0.2910\n",
      "Epoch 78/80\n",
      "1/1 [==============================] - 0s 1ms/step - loss: 0.2860\n",
      "Epoch 79/80\n",
      "1/1 [==============================] - 0s 1ms/step - loss: 0.2812\n",
      "Epoch 80/80\n",
      "1/1 [==============================] - 0s 1ms/step - loss: 0.2766\n"
     ]
    },
    {
     "data": {
      "text/plain": [
       "<tensorflow.python.keras.callbacks.History at 0x7f13c81560a0>"
      ]
     },
     "execution_count": 45,
     "metadata": {},
     "output_type": "execute_result"
    }
   ],
   "source": [
    "model.compile(optimizer=\"sgd\", loss=\"mse\")\n",
    "model.fit(train_X, train_y, epochs=80)"
   ]
  },
  {
   "cell_type": "code",
   "execution_count": 47,
   "metadata": {},
   "outputs": [
    {
     "name": "stdout",
     "output_type": "stream",
     "text": [
      "1/1 [==============================] - 0s 976us/step - loss: 0.6573\n",
      "0.6573291420936584\n"
     ]
    }
   ],
   "source": [
    "results = model.evaluate(test_X, test_y)\n",
    "print(results)"
   ]
  },
  {
   "cell_type": "code",
   "execution_count": null,
   "metadata": {},
   "outputs": [],
   "source": []
  },
  {
   "cell_type": "code",
   "execution_count": null,
   "metadata": {},
   "outputs": [],
   "source": []
  }
 ],
 "metadata": {
  "kernelspec": {
   "display_name": "Python 3",
   "language": "python",
   "name": "python3"
  },
  "language_info": {
   "codemirror_mode": {
    "name": "ipython",
    "version": 3
   },
   "file_extension": ".py",
   "mimetype": "text/x-python",
   "name": "python",
   "nbconvert_exporter": "python",
   "pygments_lexer": "ipython3",
   "version": "3.8.3"
  }
 },
 "nbformat": 4,
 "nbformat_minor": 4
}
